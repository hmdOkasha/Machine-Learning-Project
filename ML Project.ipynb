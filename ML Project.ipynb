{
 "cells": [
  {
   "cell_type": "markdown",
   "id": "927d9f67-2048-435f-b004-bdd42f0d97a8",
   "metadata": {},
   "source": [
    "<h1 style=\"font-size:4rem\">Detection of Parkinson's Disease using Vocal Biomarkers and Machine learning</h1>"
   ]
  },
  {
   "cell_type": "markdown",
   "id": "50e76a7f-0270-4236-9760-7986bf5ec3f3",
   "metadata": {},
   "source": [
    "# Data Acquisition\n",
    "\n",
    "We acquired our dataset from mPower public research portal. mPower is a Parkinson's disease clinical study"
   ]
  },
  {
   "cell_type": "code",
   "execution_count": null,
   "id": "0bcc38e3-ca97-422f-81c1-2f956dce157e",
   "metadata": {},
   "outputs": [],
   "source": []
  }
 ],
 "metadata": {
  "kernelspec": {
   "display_name": "Python 3 (ipykernel)",
   "language": "python",
   "name": "python3"
  },
  "language_info": {
   "codemirror_mode": {
    "name": "ipython",
    "version": 3
   },
   "file_extension": ".py",
   "mimetype": "text/x-python",
   "name": "python",
   "nbconvert_exporter": "python",
   "pygments_lexer": "ipython3",
   "version": "3.10.0"
  }
 },
 "nbformat": 4,
 "nbformat_minor": 5
}
